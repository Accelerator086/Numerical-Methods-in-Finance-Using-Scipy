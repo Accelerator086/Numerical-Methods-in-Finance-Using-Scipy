{
 "cells": [
  {
   "cell_type": "markdown",
   "id": "62eb11d6",
   "metadata": {},
   "source": [
    "# Numerical Methods in Finance Using Python\n",
    "\n",
    "## Chapter 0: Packages in Python\n",
    "\n",
    "### Numpy: Linear Algebra\n",
    "\n",
    "\n"
   ]
  },
  {
   "cell_type": "code",
   "execution_count": 1,
   "id": "18d988a6",
   "metadata": {},
   "outputs": [],
   "source": [
    "import numpy as np"
   ]
  },
  {
   "cell_type": "markdown",
   "id": "929dd552",
   "metadata": {},
   "source": [
    "### Scipy: Extension of Numpy"
   ]
  },
  {
   "cell_type": "code",
   "execution_count": 2,
   "id": "ce6b3b6c",
   "metadata": {},
   "outputs": [],
   "source": [
    "import scipy.linalg # 写法参见 https://blog.csdn.net/qq_44965314/article/details/105150761"
   ]
  },
  {
   "cell_type": "markdown",
   "id": "62e6e203",
   "metadata": {},
   "source": [
    "## Chapter 1: Solving Linear Equations\n",
    "\n",
    "$$Ax=b$$\n",
    "\n",
    "### 1、Numpy、Scipy：np.linalg、scipy.linalg\n",
    "\n",
    "https://scipy.github.io/devdocs/tutorial/linalg.html"
   ]
  },
  {
   "cell_type": "markdown",
   "id": "f361736f-a1ab-434f-b545-594add8316de",
   "metadata": {},
   "source": [
    "**Example**，解线性方程组：\n",
    "\n",
    "$$A=\\begin{pmatrix}\n",
    "1&2\\\\\n",
    "3&5\\\\\n",
    "\\end{pmatrix},b=\\begin{pmatrix}\n",
    "1\\\\\n",
    "2\\\\\n",
    "\\end{pmatrix}$$\n"
   ]
  },
  {
   "cell_type": "code",
   "execution_count": 3,
   "id": "4e4c9d5a",
   "metadata": {},
   "outputs": [
    {
     "name": "stdout",
     "output_type": "stream",
     "text": [
      "[-1.  1.]\n",
      "[-1.  1.]\n",
      "True\n",
      "True\n"
     ]
    },
    {
     "name": "stderr",
     "output_type": "stream",
     "text": [
      "D:\\Program_Files\\Anaconda\\lib\\site-packages\\ipykernel_launcher.py:12: DeprecationWarning: scipy.allclose is deprecated and will be removed in SciPy 2.0.0, use numpy.allclose instead\n",
      "  if sys.path[0] == \"\":\n"
     ]
    }
   ],
   "source": [
    "a = np.array([[1, 2], [3, 5]])\n",
    "b = np.array([1, 2])\n",
    "\n",
    "# Numpy\n",
    "x_np = np.linalg.solve(a, b)\n",
    "print(x_np)\n",
    "# Scipy\n",
    "x_scipy=scipy.linalg.solve(a,b)\n",
    "print(x_scipy)\n",
    "\n",
    "print(np.allclose(np.dot(a, x_np), b)) # Check that the solution is correct\n",
    "print(scipy.allclose(np.dot(a, x_np), b)) \n",
    "    # Deprecation Warning: scipy.allclose is deprecated and will be removed in SciPy 2.0.0, use numpy.allclose instead\n",
    "    # 所以这两个其实是通用的"
   ]
  },
  {
   "cell_type": "markdown",
   "id": "7c2f6144",
   "metadata": {},
   "source": [
    "### 2、LU decomposition & factorization"
   ]
  },
  {
   "cell_type": "markdown",
   "id": "8184e186-983e-42f4-a3c0-607ae1cdb1d5",
   "metadata": {},
   "source": [
    "The SciPy library also contains a `linalg` submodule, and there is overlap in the functionality provided by the SciPy and NumPy submodules. \n",
    "\n",
    "SciPy contains functions not found in `numpy.linalg`, such as functions related to **LU decomposition** and the **Schur decomposition**, multiple ways of calculating the pseudoinverse, and matrix transcendentals such as the matrix logarithm. \n",
    "\n",
    "Some functions that exist in both have augmented functionality in `scipy.linalg`. For example, `scipy.linalg.eig` can take a second matrix argument for solving generalized eigenvalue problems. \n",
    "\n",
    "Some functions in NumPy, however, have more flexible broadcasting options. For example, `numpy.linalg.solve` can handle “stacked” arrays, while `scipy.linalg.solve` accepts only a single square array as its first argument."
   ]
  },
  {
   "cell_type": "markdown",
   "id": "fba22cde-8614-4419-bd6f-b9889a47343b",
   "metadata": {},
   "source": [
    "**Example**，LU 分解矩阵\n",
    "$$A=\\begin{pmatrix}\n",
    "2&5&8&7\\\\\n",
    "5&2&2&8\\\\\n",
    "7&5&6&6\\\\\n",
    "5&4&4&8\\\\\n",
    "\\end{pmatrix}$$\n"
   ]
  },
  {
   "cell_type": "code",
   "execution_count": 4,
   "id": "c4eb540a-3355-4b8e-bac0-139e18ff12f3",
   "metadata": {},
   "outputs": [
    {
     "name": "stdout",
     "output_type": "stream",
     "text": [
      "[[0. 1. 0. 0.]\n",
      " [0. 0. 0. 1.]\n",
      " [1. 0. 0. 0.]\n",
      " [0. 0. 1. 0.]]\n",
      "[[ 1.          0.          0.          0.        ]\n",
      " [ 0.28571429  1.          0.          0.        ]\n",
      " [ 0.71428571  0.12        1.          0.        ]\n",
      " [ 0.71428571 -0.44       -0.46153846  1.        ]]\n",
      "[[ 7.          5.          6.          6.        ]\n",
      " [ 0.          3.57142857  6.28571429  5.28571429]\n",
      " [ 0.          0.         -1.04        3.08      ]\n",
      " [ 0.          0.          0.          7.46153846]]\n",
      "True\n"
     ]
    }
   ],
   "source": [
    "# Scipy\n",
    "A = np.array([[2, 5, 8, 7], [5, 2, 2, 8], [7, 5, 6, 6], [5, 4, 4, 8]])\n",
    "p, l, u = scipy.linalg.lu(A)\n",
    "print(p)\n",
    "print(l)\n",
    "print(u)\n",
    "print(np.allclose(A - p @ l @ u, np.zeros((4, 4))))"
   ]
  },
  {
   "cell_type": "markdown",
   "id": "88fc0ac6-89dd-415f-a6a3-8b403840404d",
   "metadata": {},
   "source": [
    "The decomposition is: $A=PLU$, where $P$ is a permutation matrix (置换矩阵), $L$ lower triangular with unit diagonal elements, and $U$ upper triangular."
   ]
  },
  {
   "cell_type": "code",
   "execution_count": 5,
   "id": "6b8051b8-a4ad-4021-bb33-e797923fdb25",
   "metadata": {},
   "outputs": [
    {
     "data": {
      "text/plain": [
       "array([2, 2, 3, 3], dtype=int32)"
      ]
     },
     "execution_count": 5,
     "metadata": {},
     "output_type": "execute_result"
    }
   ],
   "source": [
    "    # scipy.linalg.lu_factor: Compute pivoted LU decomposition of a matrix.\n",
    "lu, piv = scipy.linalg.lu_factor(A)\n",
    "piv"
   ]
  },
  {
   "cell_type": "markdown",
   "id": "5dc37bee-a616-4d39-b2f6-191aa33f5dd7",
   "metadata": {},
   "source": [
    "**Example**，LU分解解线性方程组：\n",
    "$$A=\\begin{pmatrix}\n",
    "2&5&8&7\\\\\n",
    "5&2&2&8\\\\\n",
    "7&5&6&6\\\\\n",
    "5&4&4&8\\\\\n",
    "\\end{pmatrix},b=\\begin{pmatrix}\n",
    "1\\\\1\\\\1\\\\1\\\\\n",
    "\\end{pmatrix}\n",
    "$$"
   ]
  },
  {
   "cell_type": "code",
   "execution_count": 6,
   "id": "93ae933e-9dd7-4117-abec-dd16e8690997",
   "metadata": {},
   "outputs": [
    {
     "name": "stdout",
     "output_type": "stream",
     "text": [
      "[ 0.05154639 -0.08247423  0.08247423  0.09278351]\n",
      "True\n"
     ]
    }
   ],
   "source": [
    "    # scipy.linalg.lu_solve\n",
    "A = np.array([[2, 5, 8, 7], [5, 2, 2, 8], [7, 5, 6, 6], [5, 4, 4, 8]])\n",
    "b = np.array([1, 1, 1, 1])\n",
    "lu, piv = scipy.linalg.lu_factor(A)\n",
    "x = scipy.linalg.lu_solve((lu, piv), b)\n",
    "print(x)\n",
    "print(np.allclose(A @ x - b, np.zeros((4,))))"
   ]
  },
  {
   "cell_type": "code",
   "execution_count": 7,
   "id": "381dbe5f-e038-4f37-8b6f-d269da2122ce",
   "metadata": {},
   "outputs": [
    {
     "name": "stdout",
     "output_type": "stream",
     "text": [
      "[ 0.05154639 -0.08247423  0.08247423  0.09278351]\n"
     ]
    }
   ],
   "source": [
    "    # 也可以这么样子写\n",
    "A = np.array([[2, 5, 8, 7], [5, 2, 2, 8], [7, 5, 6, 6], [5, 4, 4, 8]])\n",
    "b = np.array([1, 1, 1, 1])\n",
    "x=scipy.linalg.lu_solve(scipy.linalg.lu_factor(A),b)\n",
    "print(x)"
   ]
  },
  {
   "cell_type": "markdown",
   "id": "0e223683",
   "metadata": {},
   "source": [
    "### 3、Cholesky decomposition & factorization"
   ]
  },
  {
   "cell_type": "markdown",
   "id": "30b1a9d4-ce84-402c-b9e5-849f30ea4a41",
   "metadata": {},
   "source": [
    "Cholesky 分解：https://zhuanlan.zhihu.com/p/112091443 ，其前提条件一般为：矩阵 A 为对称正定阵。\n",
    "\n",
    "在 Numpy 下，Cholesky 分解式为：$A=LL^T$"
   ]
  },
  {
   "cell_type": "code",
   "execution_count": 8,
   "id": "6f691e50",
   "metadata": {},
   "outputs": [
    {
     "name": "stdout",
     "output_type": "stream",
     "text": [
      "[[ 1.+0.j -0.-2.j]\n",
      " [ 0.+2.j  5.+0.j]]\n",
      "[[1.+0.j 0.+0.j]\n",
      " [0.+2.j 1.+0.j]]\n",
      "[[1.+0.j 0.-2.j]\n",
      " [0.+2.j 5.+0.j]]\n",
      "[[1.+0.j 0.+0.j]\n",
      " [0.+2.j 1.+0.j]]\n"
     ]
    }
   ],
   "source": [
    "# Numpy\n",
    "A = np.array([[1,-2j],[2j,5]]);print(A) # A为复数矩阵\n",
    "L = np.linalg.cholesky(A);print(L)\n",
    "print(np.dot(L, L.T.conj())) # verify that L * L.H = A \n",
    "        # numpy.conj(x [，out] = ufunc'conjugate')：此函数可帮助用户对任何复数进行共轭。\n",
    "    # But a matrix object is returned if A is a matrix object\n",
    "print(np.linalg.cholesky(np.matrix(A)))"
   ]
  },
  {
   "cell_type": "code",
   "execution_count": 9,
   "id": "98011be3-d0d3-417e-a239-0c9928111031",
   "metadata": {},
   "outputs": [
    {
     "name": "stdout",
     "output_type": "stream",
     "text": [
      "[[ 1.+0.j -0.-2.j]\n",
      " [ 0.+2.j  5.+0.j]]\n",
      "[[1.+0.j 0.+0.j]\n",
      " [0.+2.j 1.+0.j]]\n",
      "[[1.+0.j 0.-2.j]\n",
      " [0.+2.j 5.+0.j]]\n"
     ]
    }
   ],
   "source": [
    "# Scipy\n",
    "A = np.array([[1,-2j],[2j,5]]);print(A) # A为复数矩阵\n",
    "L = scipy.linalg.cholesky(A, lower=True);print(L)\n",
    "print(L @ L.T.conj()) # verify that L * L.H = A "
   ]
  },
  {
   "cell_type": "code",
   "execution_count": 10,
   "id": "0980edb5-b42c-4348-bfc3-4a8b982e205b",
   "metadata": {},
   "outputs": [
    {
     "name": "stdout",
     "output_type": "stream",
     "text": [
      "[[ 0.+0.j  0.+0.j  0.+1.j  2.+0.j  0.+3.j]\n",
      " [ 0.+0.j -1.+0.j -2.+0.j  3.+0.j  4.+0.j]\n",
      " [ 9.+0.j  8.+0.j  7.+0.j  6.+0.j  9.+0.j]]\n",
      "[[ 0.+0.j -1.+0.j  0.+1.j  0.+0.j  0.+0.j]\n",
      " [ 0.+0.j  0.+0.j -2.+0.j  2.+0.j  0.+0.j]\n",
      " [ 0.+0.j  0.+0.j  0.+0.j  3.+0.j  0.+3.j]\n",
      " [ 0.+0.j  0.+0.j  0.+0.j  0.+0.j  4.+0.j]\n",
      " [ 0.+0.j  0.+0.j  0.+0.j  0.+0.j  0.+0.j]]\n",
      "[[ 9.+0.j -1.+0.j  0.+1.j  0.+0.j  0.+0.j]\n",
      " [-1.+0.j  8.+0.j -2.+0.j  2.+0.j  0.+0.j]\n",
      " [ 0.-1.j -2.+0.j  7.+0.j  3.+0.j  0.+3.j]\n",
      " [ 0.+0.j  2.+0.j  3.+0.j  6.+0.j  4.+0.j]\n",
      " [ 0.+0.j  0.+0.j  0.-3.j  4.+0.j  9.+0.j]]\n",
      "[[ 0.        +0.j          0.        +0.j          0.        +0.33333333j\n",
      "   0.71206899+0.j          0.        +1.18768515j]\n",
      " [ 0.        +0.j         -0.33333333+0.j         -0.71206899+0.03955939j\n",
      "   1.38842067+0.01115197j  2.11145768-0.87334379j]\n",
      " [ 3.        +0.j          2.80871659+0.j          2.52592195+0.j\n",
      "   1.88815291+0.j          1.53896753+0.j        ]]\n",
      "[[ 3.        +0.j         -0.33333333+0.j          0.        +0.33333333j\n",
      "   0.        +0.j          0.        +0.j        ]\n",
      " [ 0.        +0.j          2.80871659+0.j         -0.71206899+0.03955939j\n",
      "   0.71206899+0.j          0.        +0.j        ]\n",
      " [ 0.        +0.j          0.        +0.j          2.52592195+0.j\n",
      "   1.38842067+0.01115197j  0.        +1.18768515j]\n",
      " [ 0.        +0.j          0.        +0.j          0.        +0.j\n",
      "   1.88815291+0.j          2.11145768-0.87334379j]\n",
      " [ 0.        +0.j          0.        +0.j          0.        +0.j\n",
      "   0.        +0.j          1.53896753+0.j        ]]\n",
      "True\n",
      "[[ 0.+0.j  0.+0.j  0.+1.j  2.+0.j  0.+3.j]\n",
      " [ 0.+0.j -1.+0.j -2.+0.j  3.+0.j  4.+0.j]\n",
      " [ 9.+0.j  8.+0.j  7.+0.j  6.+0.j  9.+0.j]]\n",
      "[[ 0.+0.j -1.+0.j  0.+1.j  0.+0.j  0.+0.j]\n",
      " [ 0.+0.j  0.+0.j -2.+0.j  2.+0.j  0.+0.j]\n",
      " [ 0.+0.j  0.+0.j  0.+0.j  3.+0.j  0.+3.j]\n",
      " [ 0.+0.j  0.+0.j  0.+0.j  0.+0.j  4.+0.j]\n",
      " [ 0.+0.j  0.+0.j  0.+0.j  0.+0.j  0.+0.j]]\n",
      "[[ 9.+0.j -1.+0.j  0.+1.j  0.+0.j  0.+0.j]\n",
      " [-1.+0.j  8.+0.j -2.+0.j  2.+0.j  0.+0.j]\n",
      " [ 0.-1.j -2.+0.j  7.+0.j  3.+0.j  0.+3.j]\n",
      " [ 0.+0.j  2.+0.j  3.+0.j  6.+0.j  4.+0.j]\n",
      " [ 0.+0.j  0.+0.j  0.-3.j  4.+0.j  9.+0.j]]\n",
      "[[ 0.        +0.j          0.        +0.j          0.        +0.33333333j\n",
      "   0.71206899+0.j          0.        +1.18768515j]\n",
      " [ 0.        +0.j         -0.33333333+0.j         -0.71206899+0.03955939j\n",
      "   1.38842067+0.01115197j  2.11145768-0.87334379j]\n",
      " [ 3.        +0.j          2.80871659+0.j          2.52592195+0.j\n",
      "   1.88815291+0.j          1.53896753+0.j        ]]\n",
      "[ 0.1524183 -0.06901961j  0.44026144+0.01385621j  0.63503268-0.06849673j\n",
      " -0.54980392-0.15843137j  0.37830065+0.2820915j ]\n",
      "True\n"
     ]
    }
   ],
   "source": [
    "    # scipy.linalg.cholesky_banded: Cholesky decompose a banded Hermitian positive-definite matrix: Cholesky 分解带状 Hermitian 正定矩阵\n",
    "    # 俺也不懂，俺也啥都不知道：https://scipy.github.io/devdocs/reference/generated/scipy.linalg.cholesky_banded.html\n",
    "Ab = np.array([[0, 0, 1j, 2, 3j], [0, -1, -2, 3, 4], [9, 8, 7, 6, 9]]);print(Ab)\n",
    "A = np.diag(Ab[0,2:], k=2) + np.diag(Ab[1,1:], k=1);print(A)\n",
    "A = A + A.conj().T + np.diag(Ab[2, :]);print(A)\n",
    "c = scipy.linalg.cholesky_banded(Ab);print(c)\n",
    "C = np.diag(c[0, 2:], k=2) + np.diag(c[1, 1:], k=1) + np.diag(c[2, :]);print(C)\n",
    "print(np.allclose(C.conj().T @ C - A, np.zeros((5, 5))))\n",
    "\n",
    "    # scipy.linalg.cho_solve_banded\n",
    "Ab = np.array([[0, 0, 1j, 2, 3j], [0, -1, -2, 3, 4], [9, 8, 7, 6, 9]]);print(Ab)\n",
    "A = np.diag(Ab[0,2:], k=2) + np.diag(Ab[1,1:], k=1);print(A)\n",
    "A = A + A.conj().T + np.diag(Ab[2, :]);print(A)\n",
    "c = scipy.linalg.cholesky_banded(Ab);print(c)\n",
    "x = scipy.linalg.cho_solve_banded((c, False), np.ones(5));print(x)\n",
    "print(np.allclose(A @ x - np.ones(5), np.zeros(5)))"
   ]
  },
  {
   "cell_type": "code",
   "execution_count": 11,
   "id": "fd2535db-6a8d-4f03-b7f6-be56d70f6d76",
   "metadata": {},
   "outputs": [
    {
     "name": "stdout",
     "output_type": "stream",
     "text": [
      "[[9 3 1 5]\n",
      " [3 7 5 1]\n",
      " [1 5 9 2]\n",
      " [5 1 2 6]]\n",
      "[[ 3.          1.          0.33333333  1.66666667]\n",
      " [ 3.          2.44948974  1.90515869 -0.27216553]\n",
      " [ 1.          5.          2.29330749  0.8559528 ]\n",
      " [ 5.          1.          2.          1.55418563]]\n",
      "False\n",
      "True\n"
     ]
    }
   ],
   "source": [
    "    # scipy.linalg.cho_factor:Compute the Cholesky decomposition of a matrix, to use in cho_solve\n",
    "A = np.array([[9, 3, 1, 5], [3, 7, 5, 1], [1, 5, 9, 2], [5, 1, 2, 6]]);print(A)\n",
    "c, low = scipy.linalg.cho_factor(A)\n",
    "print(c) \n",
    "    # The returned matrix also contains random data in the entries not used by the Cholesky decomposition. \n",
    "    # If you need to zero these entries, use the function cholesky instead.\n",
    "print(low)\n",
    "print(np.allclose(np.triu(c).T @ np. triu(c) - A, np.zeros((4, 4))))"
   ]
  },
  {
   "cell_type": "code",
   "execution_count": 12,
   "id": "c889d6cd-0419-428a-ac3f-3be6496761ed",
   "metadata": {},
   "outputs": [
    {
     "name": "stdout",
     "output_type": "stream",
     "text": [
      "[-0.01749271  0.11953353  0.01166181  0.1574344 ]\n",
      "True\n"
     ]
    }
   ],
   "source": [
    "    # scipy.linalg.cho_solve\n",
    "A = np.array([[9, 3, 1, 5], [3, 7, 5, 1], [1, 5, 9, 2], [5, 1, 2, 6]])\n",
    "c, low = scipy.linalg.cho_factor(A)\n",
    "x = scipy.linalg.cho_solve((c, low), [1, 1, 1, 1]) # 同上，可写成 x=scipy.linalg.cho_solve(scipy.linalg.cho_factor(A),b)\n",
    "print(x)\n",
    "print(np.allclose(A @ x - [1, 1, 1, 1], np.zeros(4)))"
   ]
  },
  {
   "cell_type": "markdown",
   "id": "ea2a9cd1-419b-4dc6-a402-6cac871f3321",
   "metadata": {},
   "source": [
    "## Chapter 2: Iteration"
   ]
  },
  {
   "cell_type": "markdown",
   "id": "f49b02f7-648d-4371-a54c-e8029abacc3a",
   "metadata": {},
   "source": [
    "### 1、Jacobi Iteration"
   ]
  },
  {
   "cell_type": "markdown",
   "id": "8ed5654d-38f0-4c2c-8137-08cd599116b0",
   "metadata": {},
   "source": [
    "### 2、Gauss-Seidel Iteration"
   ]
  },
  {
   "cell_type": "markdown",
   "id": "544be900-fc36-4c81-96b0-ba7a0f284ce6",
   "metadata": {},
   "source": [
    "### 3、Fixed Point Iteration：不动点迭代法"
   ]
  },
  {
   "cell_type": "markdown",
   "id": "9cc3c71c-d376-48f8-9bae-1b655f41ae61",
   "metadata": {},
   "source": [
    "## Chapter 3: Interpolation\n",
    "\n",
    "https://scipy.github.io/devdocs/tutorial/interpolate.html"
   ]
  },
  {
   "cell_type": "code",
   "execution_count": 13,
   "id": "f3126bea-6d10-436c-b4d2-c9bb66bde748",
   "metadata": {},
   "outputs": [],
   "source": [
    "import scipy.interpolate"
   ]
  },
  {
   "cell_type": "markdown",
   "id": "62302ae2-9308-4366-9aa5-02a645af2c69",
   "metadata": {},
   "source": [
    "### 1、Lagrange Interpolation\n",
    "\n",
    "Interpolate $f(x)=x^3$ by 3 points.\n",
    "\n"
   ]
  },
  {
   "cell_type": "code",
   "execution_count": 14,
   "id": "afcc7ccf-9a68-40ae-9223-5d462bf152e7",
   "metadata": {},
   "outputs": [
    {
     "name": "stdout",
     "output_type": "stream",
     "text": [
      "[0 1 2]\n",
      "[0 1 8]\n",
      "   2\n",
      "3 x - 2 x\n"
     ]
    }
   ],
   "source": [
    "x = np.array([0, 1, 2]);print(x)\n",
    "y = x**3;print(y)\n",
    "poly = scipy.interpolate.lagrange(x, y)\n",
    "print(poly)"
   ]
  },
  {
   "cell_type": "markdown",
   "id": "aa287b37-00a0-42be-a98f-65c408e18515",
   "metadata": {},
   "source": [
    "实际上，Lagrange 插值式为：\n",
    "\n",
    "$$L_2(x)=1*\\frac{x(x-2)}{-1}+8*\\frac{x(x-1)}{2}=x(-2+3x)$$\n",
    "\n",
    "验证一下：（与上面的`print(poly)`相对应）"
   ]
  },
  {
   "cell_type": "code",
   "execution_count": 15,
   "id": "d4053a30-2323-46ce-a717-19631177406d",
   "metadata": {},
   "outputs": [
    {
     "data": {
      "text/plain": [
       "array([ 0., -2.,  3.])"
      ]
     },
     "execution_count": 15,
     "metadata": {},
     "output_type": "execute_result"
    }
   ],
   "source": [
    "from numpy.polynomial.polynomial import Polynomial\n",
    "Polynomial(poly.coef[::-1]).coef"
   ]
  },
  {
   "cell_type": "markdown",
   "id": "e1dc6293-091d-4fad-85ca-0d1fe8b97ad4",
   "metadata": {},
   "source": [
    "画个图："
   ]
  },
  {
   "cell_type": "code",
   "execution_count": 16,
   "id": "b701a91c-049d-4bab-b04b-448a900266ec",
   "metadata": {},
   "outputs": [
    {
     "data": {
      "image/png": "[encoded data removed]",
      "text/plain": [
       "<Figure size 432x288 with 1 Axes>"
      ]
     },
     "metadata": {
      "needs_background": "light"
     },
     "output_type": "display_data"
    }
   ],
   "source": [
    "import matplotlib.pyplot as plt\n",
    "x_new = np.arange(0, 2.1, 0.1)\n",
    "plt.scatter(x, y, label='data')\n",
    "plt.plot(x_new, Polynomial(poly.coef[::-1])(x_new), label='Polynomial')\n",
    "plt.plot(x_new, 3*x_new**2 - 2*x_new + 0*x_new,label=r\"$3 x^2 - 2 x$\", linestyle='-.')\n",
    "plt.legend()\n",
    "plt.show()"
   ]
  },
  {
   "cell_type": "markdown",
   "id": "5254ad05-5ae1-4e8b-a1cc-98078919aac6",
   "metadata": {},
   "source": [
    "#### Homework: Draw rate curve"
   ]
  },
  {
   "cell_type": "code",
   "execution_count": 17,
   "id": "5e182073-26f3-45be-abae-a84161e128bb",
   "metadata": {},
   "outputs": [],
   "source": [
    "# 非常明显的不符合常理\n",
    "# 这方法不是很稳定，所有输入的数据点最好不要超过20个\n",
    "x=[0,0.08,0.17,0.25,0.5,0.75,1,2,3,5,7,10,15,20,30,40,50]\n",
    "y=[1.3284,1.5453,1.6192,1.871,1.89,1.8918,1.9633,2.3114,2.4078,2.5894,2.8425,2.826,3.1341,3.174,3.2954,3.3593,3.395]\n",
    "poly = scipy.interpolate.lagrange(x, y)\n",
    "# print(poly)"
   ]
  },
  {
   "cell_type": "code",
   "execution_count": 18,
   "id": "7a393d34-34d7-4f9b-9cdd-c44ac39b2fe4",
   "metadata": {},
   "outputs": [
    {
     "data": {
      "text/plain": [
       "array([ 1.32840000e+00,  9.35031193e+00, -1.46838429e+02,  1.04050994e+03,\n",
       "       -3.49182685e+03,  6.26799795e+03, -6.46654725e+03,  3.99751012e+03,\n",
       "       -1.52551076e+03,  3.67354111e+02, -5.66471009e+01,  5.62725130e+00,\n",
       "       -3.58389873e-01,  1.43457292e-02, -3.44886520e-04,  4.50681725e-06,\n",
       "       -2.44201226e-08])"
      ]
     },
     "execution_count": 18,
     "metadata": {},
     "output_type": "execute_result"
    }
   ],
   "source": [
    "from numpy.polynomial.polynomial import Polynomial\n",
    "Polynomial(poly.coef[::-1]).coef"
   ]
  },
  {
   "cell_type": "code",
   "execution_count": 19,
   "id": "f99cc59f-bfa8-4b40-97f6-d7f6eadcde8a",
   "metadata": {},
   "outputs": [
    {
     "data": {
      "image/png": "[encoded data removed]",
      "text/plain": [
       "<Figure size 432x288 with 1 Axes>"
      ]
     },
     "metadata": {
      "needs_background": "light"
     },
     "output_type": "display_data"
    }
   ],
   "source": [
    "import matplotlib.pyplot as plt\n",
    "x_new = np.arange(0, 51, 1)\n",
    "plt.scatter(x, y, label='data')\n",
    "plt.plot(x_new, Polynomial(poly.coef[::-1])(x_new), label='Polynomial')\n",
    "plt.legend()\n",
    "plt.show()"
   ]
  },
  {
   "cell_type": "markdown",
   "id": "ce4a72af-c240-4507-9743-2a626915e3c5",
   "metadata": {},
   "source": [
    "### 2、Newton Interpolation"
   ]
  },
  {
   "cell_type": "markdown",
   "id": "a630366d-a108-41c9-8776-68aef56f2600",
   "metadata": {},
   "source": [
    "### 3、(Cubic) Spline Interpolation\n",
    "\n",
    "Scipy 关于样条插值部分有一篇讲义：https://scipy.github.io/devdocs/tutorial/interpolate.html\n",
    "\n",
    "但是这篇讲义并不全，又或者说，特别专业到现在有点懵。\n",
    "\n",
    "Scipy API Reference: https://scipy.github.io/devdocs/reference/interpolate.html\n",
    "\n",
    "其中一些教程：https://zhuanlan.zhihu.com/p/136700122"
   ]
  },
  {
   "cell_type": "markdown",
   "id": "d5b0edb3-0713-44ce-9ebd-ec313c64fc5c",
   "metadata": {},
   "source": [
    "**Example**，假设对于函数 $y=\\sin x$ 做 Cubic Spline 插值"
   ]
  },
  {
   "cell_type": "code",
   "execution_count": 20,
   "id": "00c81ef4-a3de-4106-904c-afe63989ddb3",
   "metadata": {},
   "outputs": [
    {
     "name": "stdout",
     "output_type": "stream",
     "text": [
      "<class 'tuple'>\n"
     ]
    },
    {
     "data": {
      "image/png": "[encoded data removed]",
      "text/plain": [
       "<Figure size 432x288 with 1 Axes>"
      ]
     },
     "metadata": {
      "needs_background": "light"
     },
     "output_type": "display_data"
    }
   ],
   "source": [
    "x = np.arange(0, 2*np.pi+np.pi/4, 2*np.pi/8); # 0到9pi/4,相隔pi/8\n",
    "y = np.sin(x)\n",
    "tck = scipy.interpolate.splrep(x, y, s=0);print(type(tck))\n",
    "xnew = np.arange(0, 2*np.pi, np.pi/50)\n",
    "ynew = scipy.interpolate.splev(xnew, tck, der=0)\n",
    "plt.figure()\n",
    "plt.plot(x, y, 'x', xnew, ynew, xnew, np.sin(xnew), x, y, 'b')\n",
    "plt.legend(['Linear', 'Cubic Spline', 'True'])\n",
    "plt.axis([-0.05, 6.33, -1.05, 1.05])\n",
    "plt.title('Cubic-spline interpolation')\n",
    "plt.show()"
   ]
  },
  {
   "cell_type": "markdown",
   "id": "68688776-a7ac-4fa0-9729-14b1048c062c",
   "metadata": {},
   "source": [
    "Once the spline representation of the data has been determined, functions are available for evaluating the spline (`splev`) and its derivatives (`splev`, `spalde`) at any point and the integral of the spline between any two points (`splint`)."
   ]
  },
  {
   "cell_type": "code",
   "execution_count": 21,
   "id": "2dda1648-7744-4f78-936d-16d1ef4f516b",
   "metadata": {},
   "outputs": [
    {
     "data": {
      "image/png": "[encoded data removed]",
      "text/plain": [
       "<Figure size 432x288 with 1 Axes>"
      ]
     },
     "metadata": {
      "needs_background": "light"
     },
     "output_type": "display_data"
    }
   ],
   "source": [
    "# Derivative of spline\n",
    "yder = scipy.interpolate.splev(xnew, tck, der=1)\n",
    "plt.figure()\n",
    "plt.plot(xnew, yder, xnew, np.cos(xnew),'--') # y=sin(x) → y'=cos(x)\n",
    "plt.legend(['Cubic Spline', 'True'])\n",
    "plt.axis([-0.05, 6.33, -1.05, 1.05])\n",
    "plt.title('Derivative estimation from spline')\n",
    "plt.show()"
   ]
  },
  {
   "cell_type": "code",
   "execution_count": 22,
   "id": "17c3ecae-f593-4297-9e29-dec68e388c2f",
   "metadata": {},
   "outputs": [
    {
     "data": {
      "image/png": "[encoded data removed]",
      "text/plain": [
       "<Figure size 432x288 with 1 Axes>"
      ]
     },
     "metadata": {
      "needs_background": "light"
     },
     "output_type": "display_data"
    }
   ],
   "source": [
    "# All derivatives of spline\n",
    "yders = scipy.interpolate.spalde(xnew, tck)\n",
    "plt.figure()\n",
    "for i in range(len(yders[0])):\n",
    "    plt.plot(xnew, [d[i] for d in yders], '--', label=f\"{i} derivative\") \n",
    "plt.legend()\n",
    "plt.axis([-0.05, 6.33, -1.05, 1.05])\n",
    "plt.title('All derivatives of a B-spline')\n",
    "plt.show()"
   ]
  },
  {
   "cell_type": "code",
   "execution_count": 23,
   "id": "385a9027-06d1-4ee6-ae2f-44a35cc90f56",
   "metadata": {},
   "outputs": [],
   "source": [
    "# Integral of spline\n",
    "def integ(x, tck, constant=-1):\n",
    "    x = np.atleast_1d(x)\n",
    "    out = np.zeros(x.shape, dtype=x.dtype)\n",
    "    for n in range(len(out)):\n",
    "        out[n] = scipy.interpolate.splint(0, x[n], tck)\n",
    "    out += constant\n",
    "    return out"
   ]
  },
  {
   "cell_type": "code",
   "execution_count": 24,
   "id": "b9b91da6-0189-49da-9787-b93cfb305ba3",
   "metadata": {},
   "outputs": [
    {
     "data": {
      "image/png": "[encoded data removed]",
      "text/plain": [
       "<Figure size 432x288 with 1 Axes>"
      ]
     },
     "metadata": {
      "needs_background": "light"
     },
     "output_type": "display_data"
    }
   ],
   "source": [
    "yint = integ(xnew, tck)\n",
    "plt.figure()\n",
    "plt.plot(xnew, yint, xnew, -np.cos(xnew), '--')\n",
    "plt.legend(['Cubic Spline', 'True'])\n",
    "plt.axis([-0.05, 6.33, -1.05, 1.05])\n",
    "plt.title('Integral estimation from spline')\n",
    "plt.show()"
   ]
  },
  {
   "cell_type": "code",
   "execution_count": 25,
   "id": "65efd249-6b2c-4dcc-a3fa-5ede948180da",
   "metadata": {},
   "outputs": [
    {
     "data": {
      "text/plain": [
       "array([3.14159265])"
      ]
     },
     "execution_count": 25,
     "metadata": {},
     "output_type": "execute_result"
    }
   ],
   "source": [
    "# Roots of spline\n",
    "scipy.interpolate.sproot(tck)"
   ]
  },
  {
   "cell_type": "markdown",
   "id": "6beacb20-d006-401f-b026-ab2dd7fafc7f",
   "metadata": {},
   "source": [
    "Notice that sproot may fail to find an obvious solution at the edge of the approximation interval, $x=0$. If we define the spline on a slightly larger interval, we recover both roots $x=0$ and $x=2\\pi$ :"
   ]
  },
  {
   "cell_type": "code",
   "execution_count": 26,
   "id": "2c0ddd35-fe97-440a-aadd-aacd67b5900d",
   "metadata": {},
   "outputs": [
    {
     "data": {
      "text/plain": [
       "array([0.        , 3.14159265, 6.28318531])"
      ]
     },
     "execution_count": 26,
     "metadata": {},
     "output_type": "execute_result"
    }
   ],
   "source": [
    "x = np.linspace(-np.pi/4, 2.*np.pi + np.pi/4, 21)\n",
    "y = np.sin(x)\n",
    "tck = scipy.interpolate.splrep(x, y, s=0)\n",
    "scipy.interpolate.sproot(tck)"
   ]
  },
  {
   "cell_type": "code",
   "execution_count": 27,
   "id": "32ee5a3a-9be4-459e-a91e-ff43ccc84884",
   "metadata": {},
   "outputs": [
    {
     "data": {
      "image/png": "[encoded data removed]",
      "text/plain": [
       "<Figure size 432x288 with 1 Axes>"
      ]
     },
     "metadata": {
      "needs_background": "light"
     },
     "output_type": "display_data"
    }
   ],
   "source": [
    "# Parametric spline 插值样条曲线\n",
    "t = np.arange(0, 1.1, .1)\n",
    "x = np.sin(2*np.pi*t)\n",
    "y = np.cos(2*np.pi*t)\n",
    "tck, u = scipy.interpolate.splprep([x, y], s=0)\n",
    "unew = np.arange(0, 1.01, 0.01)\n",
    "out = scipy.interpolate.splev(unew, tck)\n",
    "plt.figure()\n",
    "plt.plot(x, y, 'x', out[0], out[1], np.sin(2*np.pi*unew), np.cos(2*np.pi*unew), x, y, 'b')\n",
    "plt.legend(['Linear', 'Cubic Spline', 'True'])\n",
    "plt.axis([-1.05, 1.05, -1.05, 1.05])\n",
    "plt.title('Spline of parametrically-defined curve')\n",
    "plt.show()"
   ]
  },
  {
   "cell_type": "code",
   "execution_count": 28,
   "id": "88417ac8-a96e-4d75-9c85-db80fe409f45",
   "metadata": {},
   "outputs": [
    {
     "name": "stdout",
     "output_type": "stream",
     "text": [
      "[-0.896 -0.391  0.264  0.819  1.024  0.629]\n"
     ]
    }
   ],
   "source": [
    "x=np.array([-1,0,1,2])\n",
    "y=np.array([-1,0,1,0])\n",
    "xx=np.array([-0.8,-0.3,0.2,0.7,1.2,1.7])\n",
    "ynew = scipy.interpolate.splev(xx, scipy.interpolate.splrep(x, y, k=3), der=0)\n",
    "print(ynew)"
   ]
  },
  {
   "cell_type": "code",
   "execution_count": 29,
   "id": "522bc2be-f829-4f28-bf7a-2cd89e8c6663",
   "metadata": {},
   "outputs": [
    {
     "name": "stdout",
     "output_type": "stream",
     "text": [
      "[-0.94506667 -0.4414      0.30453333  0.9002      0.91093333  0.3546    ]\n"
     ]
    }
   ],
   "source": [
    "# 验证《数值计算方法（MATLAB版）》Chapter 5.6 Example 5.11：scipy.interpolate.CubicSpline\n",
    "    # https://scipy.github.io/devdocs/reference/generated/scipy.interpolate.CubicSpline.html\n",
    "x=np.array([-1,0,1,2])\n",
    "y=np.array([-1,0,1,0])\n",
    "xx=np.array([-0.8,-0.3,0.2,0.7,1.2,1.7])\n",
    "ynew = scipy.interpolate.CubicSpline(x, y, bc_type=((1, 0), (1, -1)))\n",
    "print(ynew(xx))"
   ]
  },
  {
   "cell_type": "markdown",
   "id": "3af4e035-8927-434b-bef9-51c416d08392",
   "metadata": {},
   "source": [
    "### Practice：利率期限结构"
   ]
  },
  {
   "cell_type": "code",
   "execution_count": 30,
   "id": "088f36de-8e0e-4a88-87c0-b22ed8d6784c",
   "metadata": {},
   "outputs": [
    {
     "name": "stdout",
     "output_type": "stream",
     "text": [
      "<class 'tuple'>\n"
     ]
    },
    {
     "data": {
      "image/png": "[encoded data removed]",
      "text/plain": [
       "<Figure size 432x288 with 1 Axes>"
      ]
     },
     "metadata": {
      "needs_background": "light"
     },
     "output_type": "display_data"
    }
   ],
   "source": [
    "# Homework: rate curves 1\n",
    "x=[0,0.08,0.17,0.25,0.5,0.75,1,2,3,5,7,10,15,20,30,40,50]\n",
    "y=[1.3284,1.5453,1.6192,1.871,1.89,1.8918,1.9633,2.3114,2.4078,2.5894,2.8425,2.826,3.1341,3.174,3.2954,3.3593,3.395]\n",
    "tck = scipy.interpolate.splrep(x, y, s=0);print(type(tck))\n",
    "xnew = np.arange(0,51,1)\n",
    "ynew = scipy.interpolate.splev(xnew, tck, der=0)\n",
    "plt.figure()\n",
    "plt.plot(x, y, 'x', xnew,ynew)\n",
    "plt.legend(['Linear', 'Cubic Spline'])\n",
    "plt.axis([-1, 51, -0.05, 5])\n",
    "plt.title('Cubic-spline interpolation')\n",
    "plt.show()"
   ]
  },
  {
   "cell_type": "code",
   "execution_count": 31,
   "id": "81791041-e19a-4b44-80a9-140200c3fb1f",
   "metadata": {},
   "outputs": [
    {
     "data": {
      "image/png": "[encoded data removed]",
      "text/plain": [
       "<Figure size 432x288 with 1 Axes>"
      ]
     },
     "metadata": {
      "needs_background": "light"
     },
     "output_type": "display_data"
    }
   ],
   "source": [
    "# Homework: rate curves 2\n",
    "x=[0,0.08,0.17,0.25,0.5,0.75,1,2,3,5,7,10,15,20,30,40,50]\n",
    "y=[1.3284,1.5453,1.6192,1.871,1.89,1.8918,1.9633,2.3114,2.4078,2.5894,2.8425,2.826,3.1341,3.174,3.2954,3.3593,3.395]\n",
    "    # Data：https://yield.chinabond.com.cn/cbweb-mn/yield_main\n",
    "    # Date：2022-04-26\n",
    "xnew = np.arange(0,51,1)\n",
    "ynew = scipy.interpolate.CubicSpline(x, y)\n",
    "    # print(ynew(xnew))\n",
    "plt.figure()\n",
    "plt.plot(x, y, 'x', xnew,ynew(xnew))\n",
    "plt.legend(['Original', 'Return Rate Curve'])\n",
    "plt.axis([-1, 51, -0.05, 5]) # 与实际画出来的线有出入：plt.axis([-1, 1, -0.05, 5])\n",
    "plt.title('National Debt Treasury Bonds Return Rate Curve')\n",
    "plt.savefig(fname='Cubic-Spline-Interpolation-Rate.svg',format='svg')\n",
    "plt.show()"
   ]
  },
  {
   "cell_type": "markdown",
   "id": "bab811b8-3aec-467a-b8e3-ab4703696ad5",
   "metadata": {},
   "source": [
    "#### 利率期限结构拟合：插值方法\n",
    "\n",
    "线性插值、Lagrange插值、Hermite插值\n",
    "\n",
    "实际上，我国业界公布的利率期限结构，包括财政部国库司，其**来自中央国债登记结算有限责任公司提供的收益率曲线**，他们通常采用插值方法拟合利率期限结构。\n",
    "\n",
    "MATLAB: `Yl=interp1(X,Y,XL,'linear');` 、`YL=interp1(X,Y,XL,'spline');`、`YH=interp1(X,Y,XL,'pchip');`\n",
    "https://ww2.mathworks.cn/help/matlab/ref/interp1.html"
   ]
  },
  {
   "cell_type": "code",
   "execution_count": 32,
   "id": "35d3f402-78bc-42d0-935a-dc8db645e38a",
   "metadata": {},
   "outputs": [
    {
     "name": "stdout",
     "output_type": "stream",
     "text": [
      "linear\n",
      "nearest\n"
     ]
    },
    {
     "data": {
      "image/png": "[encoded data removed]",
      "text/plain": [
       "<Figure size 432x288 with 1 Axes>"
      ]
     },
     "metadata": {
      "needs_background": "light"
     },
     "output_type": "display_data"
    }
   ],
   "source": [
    "import numpy as np\n",
    "import scipy.interpolate\n",
    "import pylab\n",
    "\n",
    "x=np.linspace(0,10,11)\n",
    "y=np.sin(x)\n",
    "\n",
    "xnew=np.linspace(0,10,101)\n",
    "\n",
    "pylab.plot(x,y,'ro')\n",
    "list1=['linear','nearest']\n",
    "for kind in list1:\n",
    "    print(kind)\n",
    "    f=scipy.interpolate.interp1d(x,y,kind=kind)\n",
    "    #f是一个函数，用这个函数就可以找插值点的函数值了：\n",
    "    ynew=f(xnew)\n",
    "    pylab.plot(xnew,ynew,label=kind)\n",
    "\n",
    "pylab.legend(loc='lower right')\n",
    "pylab.show()"
   ]
  },
  {
   "cell_type": "code",
   "execution_count": 33,
   "id": "1f1d3c2b-a0c5-47de-8a1e-00b1d162e331",
   "metadata": {},
   "outputs": [
    {
     "data": {
      "image/png": "[encoded data removed]",
      "text/plain": [
       "<Figure size 432x288 with 1 Axes>"
      ]
     },
     "metadata": {
      "needs_background": "light"
     },
     "output_type": "display_data"
    }
   ],
   "source": [
    "# 线性插值\n",
    "import pylab\n",
    "    # Matplotlib pylab模块\n",
    "    # PyLab 是 Matplotlib 面向对象绘图库的过程接口。Matplotlib 是整个包; matplotlib.pyplot是 Matplotlib中的一个模块; 它和 PyLab 是一个与 Matplotlib 一起安装的模块。\n",
    "    # 现在来说我们经常使用pyplot，因为pyplot相比pylab更加纯粹。\n",
    "x=[0,0.08,0.17,0.25,0.5,0.75,1,2,3,5,7,10,15,20,30,40,50]\n",
    "y=[1.3284,1.5453,1.6192,1.871,1.89,1.8918,1.9633,2.3114,2.4078,2.5894,2.8425,2.826,3.1341,3.174,3.2954,3.3593,3.395]\n",
    "    # Data：https://yield.chinabond.com.cn/cbweb-mn/yield_main\n",
    "    # Date：2022-04-26\n",
    "pylab.plot(x,y,'ro')\n",
    "xnew=np.linspace(0,50,101)\n",
    "f=scipy.interpolate.interp1d(x,y,kind='linear')\n",
    "ynew=f(xnew)\n",
    "pylab.plot(xnew,ynew,label='linear')\n",
    "pylab.legend(loc='lower right') # Legend图例\n",
    "pylab.show()"
   ]
  },
  {
   "cell_type": "code",
   "execution_count": 34,
   "id": "55e5a19e-f384-4ea8-aeb4-785868645f84",
   "metadata": {},
   "outputs": [
    {
     "data": {
      "image/png": "[encoded data removed]",
      "text/plain": [
       "<Figure size 432x288 with 1 Axes>"
      ]
     },
     "metadata": {
      "needs_background": "light"
     },
     "output_type": "display_data"
    }
   ],
   "source": [
    "# Lagrange 插值\n",
    "pylab.plot(x,y,'ro')\n",
    "f=scipy.interpolate.lagrange(x,y)\n",
    "ynew=f(xnew)\n",
    "pylab.plot(xnew,ynew,label='lagrange')\n",
    "pylab.legend(loc='lower right')\n",
    "pylab.show()"
   ]
  },
  {
   "cell_type": "code",
   "execution_count": 35,
   "id": "558e631d-f4fc-428a-a858-0e86c5a9e7b6",
   "metadata": {},
   "outputs": [
    {
     "data": {
      "image/png": "[encoded data removed]",
      "text/plain": [
       "<Figure size 432x288 with 1 Axes>"
      ]
     },
     "metadata": {
      "needs_background": "light"
     },
     "output_type": "display_data"
    }
   ],
   "source": [
    "# Hermit 插值\n",
    "pylab.plot(x,y,'ro')\n",
    "g=scipy.interpolate.KroghInterpolator(x,y)\n",
    "pylab.plot(xnew,g(xnew),label='Hermit')\n",
    "pylab.legend(loc='lower right')\n",
    "pylab.show()"
   ]
  },
  {
   "cell_type": "code",
   "execution_count": 36,
   "id": "5920fb4c-cbd2-4c4e-87e0-d1dfb47445a3",
   "metadata": {},
   "outputs": [
    {
     "data": {
      "image/png": "[encoded data removed]",
      "text/plain": [
       "<Figure size 432x288 with 1 Axes>"
      ]
     },
     "metadata": {
      "needs_background": "light"
     },
     "output_type": "display_data"
    }
   ],
   "source": [
    "# cubic 三次样条插值\n",
    "pylab.plot(x,y,'ro')\n",
    "f=scipy.interpolate.interp1d(x,y,kind='cubic')\n",
    "ynew=f(xnew)\n",
    "pylab.plot(xnew,ynew,label='cubic')\n",
    "pylab.legend(loc='lower right')\n",
    "pylab.show()"
   ]
  },
  {
   "cell_type": "code",
   "execution_count": 37,
   "id": "039f2d85-38ad-4458-9259-d0ac56286f60",
   "metadata": {},
   "outputs": [
    {
     "data": {
      "image/png": "[encoded data removed]",
      "text/plain": [
       "<Figure size 432x288 with 1 Axes>"
      ]
     },
     "metadata": {
      "needs_background": "light"
     },
     "output_type": "display_data"
    }
   ],
   "source": [
    "# pchip_interpolate插值\n",
    "pylab.plot(x,y,'ro')\n",
    "f=scipy.interpolate.pchip_interpolate(x,y,xnew)\n",
    "pylab.plot(xnew,f,label='cubicHermit')\n",
    "pylab.legend(loc='lower right')\n",
    "pylab.show()"
   ]
  },
  {
   "cell_type": "markdown",
   "id": "1537baa7-ab43-45a5-8701-9e3016019d45",
   "metadata": {},
   "source": [
    "## Chapter 4: Numeral Integration\n",
    "\n",
    "https://scipy.github.io/devdocs/tutorial/integrate.html"
   ]
  },
  {
   "cell_type": "code",
   "execution_count": 38,
   "id": "2a9a48ad-bbf3-4032-8e8e-137c52d801ec",
   "metadata": {},
   "outputs": [],
   "source": [
    "import math\n",
    "import numpy as np\n",
    "import scipy.integrate"
   ]
  },
  {
   "cell_type": "markdown",
   "id": "ee3be98c-4916-4f79-8042-11c5d285ffcf",
   "metadata": {},
   "source": [
    "**Example**，求积分\n",
    "\n",
    "$$\\int_{1}^{2}2x dx =3$$"
   ]
  },
  {
   "cell_type": "code",
   "execution_count": 39,
   "id": "c42d59ff-bca9-4e43-9225-9ce5f8fe6526",
   "metadata": {},
   "outputs": [
    {
     "data": {
      "text/plain": [
       "(3.0, 3.3306690738754696e-14)"
      ]
     },
     "execution_count": 39,
     "metadata": {},
     "output_type": "execute_result"
    }
   ],
   "source": [
    "# 一重积分\n",
    "# 基本使用格式：integrate(func, a, b)\n",
    "# func是一个函数名，a是积分下限，b是积分上限\n",
    "# 值得注意的是，使用该积分函数，需要将被积表达式封装在函数内，比如被积表达式是2*x，积分上下限分别为 1和2，口算可得积分结果为3\n",
    "    # 1\n",
    "def func(x):\n",
    "    return 2*x  # 值得注意的是，一定要将表达式return出来\n",
    "\n",
    "scipy.integrate.quad(func, 1, 2)   # 出结果 3"
   ]
  },
  {
   "cell_type": "code",
   "execution_count": 40,
   "id": "c9fbefbb-763d-4d45-bced-8a4778ef3669",
   "metadata": {},
   "outputs": [
    {
     "data": {
      "text/plain": [
       "(3.0, 3.3306690738754696e-14)"
      ]
     },
     "execution_count": 40,
     "metadata": {},
     "output_type": "execute_result"
    }
   ],
   "source": [
    "    # 2\n",
    "scipy.integrate.quad(lambda x : 2*x, 1, 2)"
   ]
  },
  {
   "cell_type": "markdown",
   "id": "9dac6105-e105-4373-ae95-3bc124e480a4",
   "metadata": {},
   "source": [
    "**Example**，求积分\n",
    "\n",
    "$$\\int_{0}^{1} (ax^2+b) dx =\\frac{a}{3}+b$$"
   ]
  },
  {
   "cell_type": "code",
   "execution_count": 41,
   "id": "1a3a72ae-edc4-46b8-bffa-cdee4ec02275",
   "metadata": {},
   "outputs": [
    {
     "data": {
      "text/plain": [
       "(1.6666666666666667, 1.8503717077085944e-14)"
      ]
     },
     "execution_count": 41,
     "metadata": {},
     "output_type": "execute_result"
    }
   ],
   "source": [
    "def integrand(x, a, b):\n",
    "    return a*x**2 + b\n",
    "a = 2;b = 1\n",
    "scipy.integrate.quad(integrand, 0, 1, args=(a,b))"
   ]
  },
  {
   "cell_type": "markdown",
   "id": "d0493959-58b2-4478-8232-f7ed393ddadd",
   "metadata": {},
   "source": [
    "**Example**，求积分\n",
    "\n",
    "$$\\int_{0}^{1} e^{-x^2} dx$$\n",
    "\n",
    "这个积分就很难直接求解析解了，数值方法计算可能更方便一些"
   ]
  },
  {
   "cell_type": "code",
   "execution_count": 42,
   "id": "14960457-d77d-43e4-8a4b-de1cc624bfc3",
   "metadata": {},
   "outputs": [
    {
     "data": {
      "text/plain": [
       "(0.7468241328124271, 8.291413475940725e-15)"
      ]
     },
     "execution_count": 42,
     "metadata": {},
     "output_type": "execute_result"
    }
   ],
   "source": [
    "    # 2 Another Example\n",
    "f= lambda x:np.exp(-x**2)\n",
    "scipy.integrate.quad(f, 0, 1)"
   ]
  },
  {
   "cell_type": "code",
   "execution_count": 43,
   "id": "6cb0ca3f-a6ae-4c8b-a71c-07de0449e1fb",
   "metadata": {},
   "outputs": [],
   "source": [
    "# 二重积分\n",
    "# dblquad的一般形式是scipy.integrate.dblquad(func，a，b，gfun，hfun)\n",
    "# 其中，func是要积分函数的名称，'a'和'b'分别是x变量的下限和上限，而gfun和hfun是定义变量y的下限和上限的函数名称"
   ]
  },
  {
   "cell_type": "markdown",
   "id": "6e70605e-f37f-4373-a79b-0f81d893ce6a",
   "metadata": {},
   "source": [
    "**Example**，求积分:\n",
    "\n",
    "![](http://www.yiibai.com/uploads/images/201803/0503/652160349_12005.png)"
   ]
  },
  {
   "cell_type": "code",
   "execution_count": 44,
   "id": "2465c97d-87c4-445d-ac5f-44262e11fcb4",
   "metadata": {},
   "outputs": [
    {
     "data": {
      "text/plain": [
       "(0.5, 1.7092350012594845e-14)"
      ]
     },
     "execution_count": 44,
     "metadata": {},
     "output_type": "execute_result"
    }
   ],
   "source": [
    "f = lambda x, y : 16*x*y\n",
    "g = lambda x : 0\n",
    "h = lambda y : math.sqrt(1-4*y**2)\n",
    "scipy.integrate.dblquad(f, 0, 0.5, g, h)"
   ]
  },
  {
   "cell_type": "markdown",
   "id": "5c479d61-d94f-480d-bf12-7a503916cb87",
   "metadata": {},
   "source": [
    "### 1、Newton-Cotes Formula\n",
    "\n",
    "`scipy.integrate.newton_cotes(rn, equal=0)` : https://scipy.github.io/devdocs/reference/generated/scipy.integrate.newton_cotes.html"
   ]
  },
  {
   "cell_type": "markdown",
   "id": "f32d692e-f131-45a6-b628-6f8dbde1fc7c",
   "metadata": {},
   "source": [
    "#### Integrating using Samples.\n",
    "\n",
    "`scipy.integrate.simpson` : https://scipy.github.io/devdocs/reference/generated/scipy.integrate.simpson.html\n",
    "\n",
    "In case of arbitrary spaced samples, the two functions `trapezoid` and `simpson` are available. They are using **Newton-Coates formulas** of order 1 and 2 respectively to perform integration. The trapezoidal rule approximates the function as a straight line between adjacent points, while Simpson’s rule approximates the function between **three** adjacent points as a parabola.\n",
    "\n",
    "For an odd number of samples that are equally spaced **Simpson’s rule** is exact if the function is a polynomial of order 3 or less. If the samples are not equally spaced, then the result is exact only if the function is a polynomial of order 2 or less."
   ]
  },
  {
   "cell_type": "code",
   "execution_count": 45,
   "id": "d1ded1f9-01d8-4ffb-bfe9-1a5fdda1ba20",
   "metadata": {},
   "outputs": [
    {
     "data": {
      "text/plain": [
       "21.0"
      ]
     },
     "execution_count": 45,
     "metadata": {},
     "output_type": "execute_result"
    }
   ],
   "source": [
    "def f1(x):\n",
    "    return x**2\n",
    "def f2(x):\n",
    "    return x**3\n",
    "x = np.array([1,3,4]);y1 = f1(x)\n",
    "scipy.integrate.simpson(y1, x)"
   ]
  },
  {
   "cell_type": "markdown",
   "id": "b27b3bb1-a468-4f93-a2c5-553ba2229a3a",
   "metadata": {},
   "source": [
    "结果与 $\\int_1^4 x^2 dx =21$ 相同。"
   ]
  },
  {
   "cell_type": "code",
   "execution_count": 46,
   "id": "de65c717-9cb5-4659-969f-0f9de13296f0",
   "metadata": {},
   "outputs": [
    {
     "data": {
      "text/plain": [
       "61.5"
      ]
     },
     "execution_count": 46,
     "metadata": {},
     "output_type": "execute_result"
    }
   ],
   "source": [
    "y2 = f2(x)\n",
    "scipy.integrate.simpson(y2, x)"
   ]
  },
  {
   "cell_type": "markdown",
   "id": "75a4298a-e824-47d3-8926-99b681f655aa",
   "metadata": {},
   "source": [
    "而这个结果与 $\\int_1^4 x^3 dx =63.5$ 并不相同。"
   ]
  },
  {
   "cell_type": "code",
   "execution_count": 47,
   "id": "d414eda1-73c1-4e93-afc9-0c1de3152e29",
   "metadata": {},
   "outputs": [
    {
     "data": {
      "text/plain": [
       "(3.1415926535897936, 3.4878684980086326e-14)"
      ]
     },
     "execution_count": 47,
     "metadata": {},
     "output_type": "execute_result"
    }
   ],
   "source": [
    "# Example: 验证《数值计算方法（MATLAB版）》Chapter 6.2 Example 6.5\n",
    "f= lambda x:4/(1+x**2)\n",
    "scipy.integrate.quad(f,0,1) # 精确值"
   ]
  },
  {
   "cell_type": "code",
   "execution_count": 48,
   "id": "75fdc0a6-975a-42fb-a728-f5b13af38e21",
   "metadata": {},
   "outputs": [
    {
     "name": "stdout",
     "output_type": "stream",
     "text": [
      " 1  3.000000000  1.41593e-01\n",
      " 2  3.133333333  8.25932e-03\n",
      " 3  3.138461538  3.13112e-03\n",
      " 4  3.142117647  5.24993e-04\n",
      " 5  3.141878418  2.85764e-04\n",
      " 6  3.141570856  2.17979e-05\n",
      " 7  3.141579303  1.33510e-05\n",
      " 8  3.141592674  2.02846e-08\n",
      " 9  3.141592696  4.26037e-08\n",
      "10  3.141592750  9.63215e-08\n"
     ]
    }
   ],
   "source": [
    "def f(x):\n",
    "    return 4/(1+x**2)\n",
    "a = 0 ; b = 1\n",
    "exact = np.pi # 实际上这个积分的值为 \\pi\n",
    "for N in np.arange(1,11,1):\n",
    "    x = np.linspace(a, b, N + 1)\n",
    "    an, B = scipy.integrate.newton_cotes(N, 1)\n",
    "    dx = (b - a) / N\n",
    "    quad = dx * np.sum(an * f(x))\n",
    "    error = abs(quad - exact)\n",
    "    print('{:2d}  {:10.9f}  {:.5e}'.format(N, quad, error))\n",
    "\n",
    "# 其中 1 为梯形公式计算得到的结果，2 为辛普森公式计算得到的结果\n",
    "# 而观察结果可以发现，N=8 时得到最小的error，这也证明课本上的一句话：\n",
    "    # 当 n≥8 时，Cotes系数有正有负，此时相应的求积公式的稳定性得不到保证，故在实际计算中不宜采用高阶的 Newton-Cotes Formula。"
   ]
  },
  {
   "cell_type": "code",
   "execution_count": 49,
   "id": "5ca9de3b-6f3c-429b-ad90-5e7f35c07934",
   "metadata": {},
   "outputs": [
    {
     "data": {
      "text/plain": [
       "3.1333333333333333"
      ]
     },
     "execution_count": 49,
     "metadata": {},
     "output_type": "execute_result"
    }
   ],
   "source": [
    "# Example: 验证《数值计算方法（MATLAB版）》Chapter 6.2 Example 6.5\n",
    "# Wolfram Alpha：`simpson's rule f(x)=4/(1+x^2) from 0 to 1`\n",
    "def f(x):\n",
    "    return 4/(1+x**2)\n",
    "x=np.array([0,0.5,1]);y=f(x) \n",
    "    # x=np.linspace(0,1,3) # =[0,0.5,1],同样效果\n",
    "    # x=np.arange(0,1.01,0.05) 分割成20个，随着分割次数增大，计算值也逐渐逼近，见后面\n",
    "scipy.integrate.simpson(y,x) # 课本所提到的辛普森公式"
   ]
  },
  {
   "cell_type": "code",
   "execution_count": 50,
   "id": "b98d064f-f964-466f-bd3f-3d1efaa91fd0",
   "metadata": {},
   "outputs": [
    {
     "data": {
      "text/plain": [
       "3.0"
      ]
     },
     "execution_count": 50,
     "metadata": {},
     "output_type": "execute_result"
    }
   ],
   "source": [
    "x=np.array([0,1]);y=f(x)\n",
    "scipy.integrate.trapezoid(y,x) # 课本所提到的梯形公式"
   ]
  },
  {
   "cell_type": "markdown",
   "id": "18771c79-ba80-4ce8-ae23-f236400d48fe",
   "metadata": {},
   "source": [
    "### 2、Composite Formula"
   ]
  },
  {
   "cell_type": "code",
   "execution_count": 51,
   "id": "c64583a4-664e-4660-b4b6-458767b14e70",
   "metadata": {},
   "outputs": [
    {
     "data": {
      "text/plain": [
       "3.1411759869541283"
      ]
     },
     "execution_count": 51,
     "metadata": {},
     "output_type": "execute_result"
    }
   ],
   "source": [
    "    # Composite Trapezoid formula: Integrate along the given axis using the composite trapezoidal rule.\n",
    "    # Example: 验证《数值计算方法（MATLAB版）》Chapter 6.3 Example 6.9\n",
    "x=np.linspace(0,1,21);y=f(x)\n",
    "scipy.integrate.trapezoid(y,x)"
   ]
  },
  {
   "cell_type": "code",
   "execution_count": 52,
   "id": "e62c2b54-f53e-4390-b817-52e547750d52",
   "metadata": {},
   "outputs": [
    {
     "data": {
      "image/png": "[encoded data removed]",
      "text/plain": [
       "<Figure size 432x288 with 1 Axes>"
      ]
     },
     "metadata": {
      "needs_background": "light"
     },
     "output_type": "display_data"
    }
   ],
   "source": [
    "x = np.linspace(-2, 2, num=100)\n",
    "y = x\n",
    "y_int = scipy.integrate.cumulative_trapezoid(y, x,initial=-1) \n",
    "    # y=x 不定积分后为 y=0.5x**2-2，在[-2,2]区间里初始值为y(-2)=-1,\n",
    "    #!! Remain Unknown why this\n",
    "# print(y_int)\n",
    "plt.plot(x, y_int, 'ro')\n",
    "plt.show()"
   ]
  },
  {
   "cell_type": "code",
   "execution_count": 53,
   "id": "28df84d5-824e-403a-a69f-477579ed3394",
   "metadata": {},
   "outputs": [
    {
     "data": {
      "text/plain": [
       "3.141592652969785"
      ]
     },
     "execution_count": 53,
     "metadata": {},
     "output_type": "execute_result"
    }
   ],
   "source": [
    "    # Composite Simpson formula: Integrate y(x) using samples along the given axis and the composite Simpson's rule.\n",
    "x=np.linspace(0,1,21);y=f(x)\n",
    "# print(x)\n",
    "scipy.integrate.simpson(y,x,axis=-1)\n",
    "    # If there are an even number of samples, N, then there are an odd number of intervals (N-1), but Simpson’s rule requires an even number of intervals. \n",
    "    # The parameter ‘even’ controls how this is handled."
   ]
  },
  {
   "cell_type": "code",
   "execution_count": 54,
   "id": "bfd3b3ae-99cb-4acb-8f85-1eff65cb3cb4",
   "metadata": {},
   "outputs": [
    {
     "name": "stdout",
     "output_type": "stream",
     "text": [
      "3.1415926535801053\n"
     ]
    }
   ],
   "source": [
    "def fun(x):\n",
    "    return 4/(1+x**2)\n",
    "#复合 Simpson 公式：与课本相同\n",
    "def xps(a,b,n):   \n",
    "    h=(b-a)/n\n",
    "    x=a\n",
    "    s=fun(x)-fun(b)\n",
    "    for k in range(1,n+1):\n",
    "        x=x+h/2\n",
    "        s=s+4*fun(x)\n",
    "        x=x+h/2\n",
    "        s=s+2*fun(x)\n",
    "    result=(h/6)*s\n",
    "    return result\n",
    "a=0\n",
    "b=1\n",
    "n=20\n",
    "t=xps(a,b,n)\n",
    "print(t)"
   ]
  },
  {
   "cell_type": "code",
   "execution_count": 55,
   "id": "cd57cf4b-73ae-4973-a4d1-a7651baee955",
   "metadata": {},
   "outputs": [
    {
     "data": {
      "text/plain": [
       "3.1415926529697846"
      ]
     },
     "execution_count": 55,
     "metadata": {},
     "output_type": "execute_result"
    }
   ],
   "source": [
    "# Reason why different：计算公式不同\n",
    "# 见 https://personal.math.ubc.ca/~pwalls/math-python/integration/simpsons-rule/\n",
    "def simps(f,a,b,N=50):\n",
    "    '''Approximate the integral of f(x) from a to b by Simpson's rule.\n",
    "\n",
    "    Simpson's rule approximates the integral \\int_a^b f(x) dx by the sum:\n",
    "    (dx/3) \\sum_{k=1}^{N/2} (f(x_{2i-2} + 4f(x_{2i-1}) + f(x_{2i}))\n",
    "    where x_i = a + i*dx and dx = (b - a)/N.\n",
    "\n",
    "    Parameters\n",
    "    ----------\n",
    "    f : function\n",
    "        Vectorized function of a single variable\n",
    "    a , b : numbers\n",
    "        Interval of integration [a,b]\n",
    "    N : (even) integer\n",
    "        Number of subintervals of [a,b]\n",
    "\n",
    "    Returns\n",
    "    -------\n",
    "    float\n",
    "        Approximation of the integral of f(x) from a to b using\n",
    "        Simpson's rule with N subintervals of equal length.\n",
    "\n",
    "    Examples\n",
    "    --------\n",
    "    >>> simps(lambda x : 3*x**2,0,1,10)\n",
    "    1.0\n",
    "    '''\n",
    "    if N % 2 == 1:\n",
    "        raise ValueError(\"N must be an even integer.\")\n",
    "    dx = (b-a)/N\n",
    "    x = np.linspace(a,b,N+1)\n",
    "    y = f(x)\n",
    "    S = dx/3 * np.sum(y[0:-1:2] + 4*y[1::2] + y[2::2])\n",
    "    return S\n",
    "\n",
    "simps(lambda x : 4/(1+x**2),0,1,20)"
   ]
  },
  {
   "cell_type": "markdown",
   "id": "f02c330d-9bb3-4826-8d7c-2511227b77a9",
   "metadata": {},
   "source": [
    "### 3、Romberg Formula"
   ]
  },
  {
   "cell_type": "code",
   "execution_count": 56,
   "id": "7885d293-6fb8-4bef-bd63-a86f21aca54f",
   "metadata": {},
   "outputs": [
    {
     "data": {
      "text/plain": [
       "3.141592653638244"
      ]
     },
     "execution_count": 56,
     "metadata": {},
     "output_type": "execute_result"
    }
   ],
   "source": [
    "    # Example: 验证《数值计算方法（MATLAB版）》Chapter 6.4 Example 6.13\n",
    "f= lambda x:4/(1+x**2)\n",
    "scipy.integrate.romberg(f,0,1,tol=1e-10) # ,show=True"
   ]
  },
  {
   "cell_type": "markdown",
   "id": "5f408c61-82d6-45b5-9238-22df52b598a0",
   "metadata": {},
   "source": [
    "## Chapter 5: Single Nonlinear Equation\n",
    "\n",
    "https://scipy.github.io/devdocs/tutorial/optimize.html#root-finding\n",
    "\n",
    "https://scipy.github.io/devdocs/reference/optimize.html#root-finding\n",
    "\n",
    "`scipy.optimize.root_scalar`"
   ]
  },
  {
   "cell_type": "code",
   "execution_count": 57,
   "id": "841c2643-896d-4493-8dfe-ec10730f37f5",
   "metadata": {},
   "outputs": [],
   "source": [
    "import scipy.optimize"
   ]
  },
  {
   "cell_type": "markdown",
   "id": "85ecd667-c9fc-4829-88f2-d9bc45f6a366",
   "metadata": {},
   "source": [
    "### 1、Bisection 二分法\n",
    "\n",
    "`scipy.optimize.bisect`"
   ]
  },
  {
   "cell_type": "code",
   "execution_count": 58,
   "id": "f2d46edd-68f8-44d2-b8e2-001f3d31059c",
   "metadata": {},
   "outputs": [
    {
     "data": {
      "text/plain": [
       "(0.5671463012695312,\n",
       "       converged: True\n",
       "            flag: 'converged'\n",
       "  function_calls: 19\n",
       "      iterations: 17\n",
       "            root: 0.5671463012695312)"
      ]
     },
     "execution_count": 58,
     "metadata": {},
     "output_type": "execute_result"
    }
   ],
   "source": [
    "# Example: 验证《数值计算方法（MATLAB版）》Chapter 4.2 Example 4.2\n",
    "import math\n",
    "def f(x):\n",
    "    return (x - math.exp(-x))\n",
    "root = scipy.optimize.bisect(f, 0, 1,xtol=1e-5,full_output=True)\n",
    "root"
   ]
  },
  {
   "cell_type": "code",
   "execution_count": 59,
   "id": "caa5ffe1-50f8-4638-b138-38382c0771f9",
   "metadata": {},
   "outputs": [
    {
     "data": {
      "text/plain": [
       "(0.5671463012695312, 17)"
      ]
     },
     "execution_count": 59,
     "metadata": {},
     "output_type": "execute_result"
    }
   ],
   "source": [
    "    # Or: \n",
    "sol = scipy.optimize.root_scalar(f, bracket=[0, 1], method='bisect',xtol=1e-5)\n",
    "sol.root, sol.iterations"
   ]
  },
  {
   "cell_type": "code",
   "execution_count": 60,
   "id": "05b3ce1f-829c-4335-8646-82b9289f3e5c",
   "metadata": {},
   "outputs": [
    {
     "data": {
      "text/plain": [
       "      converged: False\n",
       "           flag: 'convergence error'\n",
       " function_calls: 14\n",
       "     iterations: 12\n",
       "           root: 1.99951171875"
      ]
     },
     "execution_count": 60,
     "metadata": {},
     "output_type": "execute_result"
    }
   ],
   "source": [
    "# Homework 2.6\n",
    "import scipy.optimize\n",
    "import math\n",
    "def f(x):\n",
    "    return ((x**2-2*x+1)/(x**2-x-2))\n",
    "sol = scipy.optimize.root_scalar(f, bracket=[0, 3], method='bisect',maxiter=12)\n",
    "sol"
   ]
  },
  {
   "cell_type": "code",
   "execution_count": 61,
   "id": "50ab85a0-a57b-48a9-9c57-444f7494cbab",
   "metadata": {},
   "outputs": [
    {
     "name": "stderr",
     "output_type": "stream",
     "text": [
      "D:\\Program_Files\\Anaconda\\lib\\site-packages\\ipykernel_launcher.py:5: RuntimeWarning: divide by zero encountered in true_divide\n",
      "  \"\"\"\n"
     ]
    },
    {
     "data": {
      "image/png": "[encoded data removed]",
      "text/plain": [
       "<Figure size 432x288 with 1 Axes>"
      ]
     },
     "metadata": {
      "needs_background": "light"
     },
     "output_type": "display_data"
    }
   ],
   "source": [
    "import numpy as np\n",
    "import matplotlib.pyplot as plt\n",
    "x=np.arange(0,3,0.01);y=f(x)\n",
    "plt.figure()\n",
    "plt.plot(x, y)\n",
    "plt.legend(['Line'])\n",
    "plt.title(r'f(x)=$\\frac{x^2-2x+1}{x^2-x-2}$')\n",
    "plt.show()"
   ]
  },
  {
   "cell_type": "markdown",
   "id": "27791486-c2fc-4e3f-9419-41af6efe1690",
   "metadata": {},
   "source": [
    "### 2、Newton 牛顿法 & Secant 割线法"
   ]
  },
  {
   "cell_type": "markdown",
   "id": "972f5f67-3a19-4c55-9a58-bd3160b3e3d9",
   "metadata": {},
   "source": [
    "#### 1、Newton 牛顿法"
   ]
  },
  {
   "cell_type": "code",
   "execution_count": 62,
   "id": "61b82306-743a-4fd5-9071-1f9a2a05681b",
   "metadata": {},
   "outputs": [
    {
     "data": {
      "text/plain": [
       "(0.5671432904097811,\n",
       "       converged: True\n",
       "            flag: 'converged'\n",
       "  function_calls: 6\n",
       "      iterations: 3\n",
       "            root: 0.5671432904097811)"
      ]
     },
     "execution_count": 62,
     "metadata": {},
     "output_type": "execute_result"
    }
   ],
   "source": [
    "# Example: 验证《数值计算方法（MATLAB版）》Chapter 4.4 Example 4.9\n",
    "def f(x):\n",
    "    return (x - math.exp(-x))\n",
    "root = scipy.optimize.newton(f, x0=0.5, fprime=lambda x:1+math.exp(-x),tol=1e-5,full_output=True)\n",
    "root"
   ]
  },
  {
   "cell_type": "code",
   "execution_count": 63,
   "id": "27671a92-6b85-4e2a-b7c1-7e8692d3dbf6",
   "metadata": {},
   "outputs": [
    {
     "data": {
      "text/plain": [
       "(0.5671432904097811, 3)"
      ]
     },
     "execution_count": 63,
     "metadata": {},
     "output_type": "execute_result"
    }
   ],
   "source": [
    "        # Or: \n",
    "sol = scipy.optimize.root_scalar(f, fprime=lambda x:1+math.exp(-x),bracket=[0, 1], method='newton',x0=0.5,xtol=1e-5)\n",
    "sol.root, sol.iterations"
   ]
  },
  {
   "cell_type": "code",
   "execution_count": 64,
   "id": "dea0a2a9-2587-4085-9bfb-529ea6e83076",
   "metadata": {},
   "outputs": [
    {
     "data": {
      "image/png": "[encoded data removed]",
      "text/plain": [
       "<Figure size 432x288 with 1 Axes>"
      ]
     },
     "metadata": {
      "needs_background": "light"
     },
     "output_type": "display_data"
    }
   ],
   "source": [
    "# Homework 2.7\n",
    "import scipy.optimize\n",
    "import math\n",
    "def f(x):\n",
    "    return (x**2-2)\n",
    "import numpy as np\n",
    "import matplotlib.pyplot as plt\n",
    "x=np.arange(-2,2,0.01);y=f(x)\n",
    "plt.figure()\n",
    "plt.plot(x, y)\n",
    "plt.hlines(0,xmin=min(y),xmax=max(y),colors = \"r\", linestyles = \"dashed\")\n",
    "plt.vlines(math.sqrt(2),ymin=min(x),ymax=max(x),colors = \"g\", linestyles = \"dashed\")\n",
    "plt.vlines(-math.sqrt(2),ymin=min(x),ymax=max(x),colors = \"g\", linestyles = \"dashed\")\n",
    "# plt.legend(['Line'])\n",
    "plt.title(r'f(x)=$x^2-2$')\n",
    "plt.show()"
   ]
  },
  {
   "cell_type": "code",
   "execution_count": 65,
   "id": "f36bb22c-a3db-4e22-8a75-c66893f18990",
   "metadata": {},
   "outputs": [
    {
     "data": {
      "text/plain": [
       "      converged: True\n",
       "           flag: 'converged'\n",
       " function_calls: 14\n",
       "     iterations: 7\n",
       "           root: 1.414213562373095"
      ]
     },
     "execution_count": 65,
     "metadata": {},
     "output_type": "execute_result"
    }
   ],
   "source": [
    "sol_right = scipy.optimize.root_scalar(f, fprime=lambda x:2*x,bracket=[0, 2], method='newton',xtol=1e-10,x0=0.5)\n",
    "sol_left = scipy.optimize.root_scalar(f, fprime=lambda x:2*x,bracket=[-2, 0], method='newton',xtol=1e-10,x0=-0.5)\n",
    "sol_right"
   ]
  },
  {
   "cell_type": "code",
   "execution_count": 66,
   "id": "a94b724d-c3f2-4689-ad50-39bb939bb267",
   "metadata": {},
   "outputs": [
    {
     "data": {
      "text/plain": [
       "      converged: True\n",
       "           flag: 'converged'\n",
       " function_calls: 14\n",
       "     iterations: 7\n",
       "           root: -1.414213562373095"
      ]
     },
     "execution_count": 66,
     "metadata": {},
     "output_type": "execute_result"
    }
   ],
   "source": [
    "sol_left"
   ]
  },
  {
   "cell_type": "markdown",
   "id": "03a44664-199e-42f1-8639-dc845f1b95d5",
   "metadata": {},
   "source": [
    "#### 2、Secant 割线法"
   ]
  },
  {
   "cell_type": "code",
   "execution_count": 67,
   "id": "0acc18ff-875c-4fcb-801e-b73f819fdeac",
   "metadata": {},
   "outputs": [
    {
     "data": {
      "text/plain": [
       "(0.5372744491741065,\n",
       "       converged: True\n",
       "            flag: 'converged'\n",
       "  function_calls: 5\n",
       "      iterations: 4\n",
       "            root: 0.5372744491741065)"
      ]
     },
     "execution_count": 67,
     "metadata": {},
     "output_type": "execute_result"
    }
   ],
   "source": [
    "# Example: 验证《数值计算方法（MATLAB版）》Chapter 4.4 Example 4.11\n",
    "def f(x):\n",
    "    return (math.exp(x)+x**2-2)\n",
    "root = scipy.optimize.newton(f, x0=0.5,tol=1e-5,full_output=True)\n",
    "root"
   ]
  },
  {
   "cell_type": "code",
   "execution_count": 68,
   "id": "c89cbec6-a415-46e7-8494-194d73a4b3cd",
   "metadata": {},
   "outputs": [
    {
     "data": {
      "text/plain": [
       "      converged: True\n",
       "           flag: 'converged'\n",
       " function_calls: 19\n",
       "     iterations: 9\n",
       "           root: 1.0"
      ]
     },
     "execution_count": 68,
     "metadata": {},
     "output_type": "execute_result"
    }
   ],
   "source": [
    "# Homework 2 Bonus (3)\n",
    "import scipy.optimize\n",
    "import math\n",
    "def f(x):\n",
    "    return (x**3+4*x-5)\n",
    "sol = scipy.optimize.root_scalar(f, fprime=lambda x:3*x**2+4, method='newton',xtol=1e-14,x0=10) \n",
    "sol"
   ]
  },
  {
   "cell_type": "code",
   "execution_count": 69,
   "id": "a933aef4-95c4-4dba-a8dd-364915afd343",
   "metadata": {},
   "outputs": [
    {
     "data": {
      "text/plain": [
       "      converged: True\n",
       "           flag: 'converged'\n",
       " function_calls: 14\n",
       "     iterations: 13\n",
       "           root: 1.0"
      ]
     },
     "execution_count": 69,
     "metadata": {},
     "output_type": "execute_result"
    }
   ],
   "source": [
    "# Homework 2 Bonus (4)\n",
    "import scipy.optimize\n",
    "import math\n",
    "def f(x):\n",
    "    return (x**3+4*x-5)\n",
    "sol = scipy.optimize.root_scalar(f, method='secant',xtol=1e-14,x0=10,x1=-5) \n",
    "sol"
   ]
  },
  {
   "cell_type": "markdown",
   "id": "a5084cfb-b7f7-4a73-bad6-9d62d7600db8",
   "metadata": {},
   "source": [
    "### 3、Fixed-Point Iteration 不动点迭代\n",
    "\n",
    "`scipy.optimize.fixed_point`\n",
    "\n",
    "如果是Aitken-Steffensen Formula加速迭代，那么可以设置参数`method='del2'`"
   ]
  },
  {
   "cell_type": "code",
   "execution_count": 70,
   "id": "1d3377d4-2216-4d03-a3e6-66b74d41a943",
   "metadata": {},
   "outputs": [
    {
     "data": {
      "text/plain": [
       "0.5671447236620769"
      ]
     },
     "execution_count": 70,
     "metadata": {},
     "output_type": "execute_result"
    }
   ],
   "source": [
    "# Example: 验证《数值计算方法（MATLAB版）》Chapter 4.2 Example 4.3\n",
    "def func(x):\n",
    "    return math.exp(-x)\n",
    "scipy.optimize.fixed_point(func, x0=0.5,xtol=1e-05,method='iteration')"
   ]
  },
  {
   "cell_type": "code",
   "execution_count": null,
   "id": "9fedd1c2-8df3-408b-ac9f-badc4dce7dd3",
   "metadata": {},
   "outputs": [],
   "source": []
  }
 ],
 "metadata": {
  "kernelspec": {
   "display_name": "Python 3 (ipykernel)",
   "language": "python",
   "name": "python3"
  },
  "language_info": {
   "codemirror_mode": {
    "name": "ipython",
    "version": 3
   },
   "file_extension": ".py",
   "mimetype": "text/x-python",
   "name": "python",
   "nbconvert_exporter": "python",
   "pygments_lexer": "ipython3",
   "version": "3.7.13"
  }
 },
 "nbformat": 4,
 "nbformat_minor": 5
}
